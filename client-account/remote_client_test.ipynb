{
 "cells": [
  {
   "cell_type": "code",
   "execution_count": null,
   "id": "244d966a-c04d-4f4f-9e33-f8ac84f6423c",
   "metadata": {
    "tags": []
   },
   "outputs": [],
   "source": [
    "import boto3\n",
    "\n",
    "# Create an STS client in account A\n",
    "sts_client = boto3.client('sts')\n",
    "\n",
    "# Assume the role in account B\n",
    "assumed_role_object = sts_client.assume_role(\n",
    "    RoleArn=\"arn:aws:iam::7076********:role/cross-account-29970*******-role\",\n",
    "    RoleSessionName=\"cross-account-lambda-access\",\n",
    "    ExternalId=\"1234****\"  # Optional, if specified in the role's trust policy\n",
    ")"
   ]
  },
  {
   "cell_type": "code",
   "execution_count": null,
   "id": "565add45-f42f-4bb6-aaf2-fd59eb9a9c56",
   "metadata": {
    "tags": []
   },
   "outputs": [],
   "source": []
  },
  {
   "cell_type": "markdown",
   "id": "36d866de-120b-42d4-9bb2-946424671abc",
   "metadata": {},
   "source": [
    "\n",
    "Current Notebook Role arn:aws:iam::29970***********:role/service-role/AmazonSageMaker-ExecutionRole-20231120T140189\n",
    "\n",
    "If not add sts permission, the following error will appear.\n",
    "\n",
    "An error occurred (AccessDenied) when calling the AssumeRole operation: User: arn:aws:sts::2997*******:assumed-role/AmazonSageMaker-ExecutionRole-20231120T140189/SageMaker is not authorized to perform: sts:AssumeRole on resource: arn:aws:iam::<Account-B-ID>:role/<role-name>"
   ]
  },
  {
   "cell_type": "code",
   "execution_count": 14,
   "id": "b0e7af86-b423-4eef-81f9-7bf77daa45b1",
   "metadata": {
    "tags": []
   },
   "outputs": [],
   "source": [
    "# Create a new session using the assumed role credentials\n",
    "assumed_role_session = boto3.Session(\n",
    "    aws_access_key_id=assumed_role_object['Credentials']['AccessKeyId'],\n",
    "    aws_secret_access_key=assumed_role_object['Credentials']['SecretAccessKey'],\n",
    "    aws_session_token=assumed_role_object['Credentials']['SessionToken']\n",
    ")\n",
    "\n",
    "# Create a Lambda client using the assumed role session and specify the desired region\n",
    "lambda_client = assumed_role_session.client('lambda', region_name='us-east-1')"
   ]
  },
  {
   "cell_type": "code",
   "execution_count": 15,
   "id": "01deaa99-dfca-4986-9273-e45bcb2f1bcc",
   "metadata": {
    "tags": []
   },
   "outputs": [],
   "source": [
    "import json\n",
    "import base64"
   ]
  },
  {
   "cell_type": "code",
   "execution_count": 16,
   "id": "80e27897-51e9-4d8f-ba76-c4ac11edfce5",
   "metadata": {
    "tags": []
   },
   "outputs": [],
   "source": [
    "def invoke_lambda_with_response_stream(function_name, payload, lambda_client):\n",
    "    lambda_client = lambda_client\n",
    "\n",
    "    response = lambda_client.invoke_with_response_stream(\n",
    "        FunctionName=function_name,\n",
    "        Payload=json.dumps(payload)\n",
    "    )\n",
    "\n",
    "    for event in response['EventStream']:\n",
    "        if 'PayloadChunk' in event:\n",
    "            chunk = event['PayloadChunk']['Payload'].decode('utf-8')\n",
    "            print(chunk, end='', flush=True)\n",
    "        elif 'InvokeComplete' in event:\n",
    "            if 'ErrorCode' in event['InvokeComplete']:\n",
    "                error_code = event['InvokeComplete']['ErrorCode']\n",
    "                error_details = event['InvokeComplete']['ErrorDetails']\n",
    "                print(f\"\\nError: {error_code} - {error_details}\")\n",
    "            else:\n",
    "                print(\"\\nInvocation completed successfully.\")"
   ]
  },
  {
   "cell_type": "code",
   "execution_count": 17,
   "id": "2013a876-b4d7-4111-8502-f1a71cae10e9",
   "metadata": {
    "tags": []
   },
   "outputs": [],
   "source": [
    "# Example usage\n",
    "function_name = 'sam-app-NewStreamingFunction-MvQgTK3EspsL'\n",
    "\n",
    "messages = [\n",
    "  {\"role\": \"user\", \"content\": \"Please explain me what is Machine Learning in a simple way.\"},\n",
    "]\n",
    "\n",
    "payload_body={\n",
    "    \"anthropic_version\": \"bedrock-2023-05-31\",\n",
    "    \"messages\": messages, \n",
    "    \"max_tokens\": 300, \n",
    "    \"temperature\": 0.1, \n",
    "    \"top_p\": 0.9}\n",
    "\n",
    "payload = {\n",
    "    'modelId': 'anthropic.claude-3-sonnet-20240229-v1:0',\n",
    "    'body': payload_body\n",
    "}"
   ]
  },
  {
   "cell_type": "code",
   "execution_count": 19,
   "id": "9c547498-4a75-4287-8645-6df4e54e8eb3",
   "metadata": {
    "tags": []
   },
   "outputs": [
    {
     "name": "stdout",
     "output_type": "stream",
     "text": [
      "Machine Learning is a field of artificial intelligence that allows computers to learn and improve from experience without being explicitly programmed. Instead of writing code with specific instructions to accomplish a particular task, machine learning models are trained using large amounts of data.\n",
      "\n",
      "Here's a simple analogy to understand machine learning:\n",
      "\n",
      "Imagine you want to teach a child how to identify different types of animals. Instead of giving them a set of rules like \"if it has four legs and a tail, it's a cat,\" you would show them many examples of different animals, along with their correct labels (e.g., pictures of cats labeled as \"cat,\" pictures of dogs labeled as \"dog,\" and so on).\n",
      "\n",
      "Over time, by seeing many examples, the child would start to recognize patterns and learn to distinguish between different animals based on their characteristics, such as shape, size, color, and other features.\n",
      "\n",
      "Similarly, in machine learning, algorithms are fed large amounts of data (like the examples of animals) and their corresponding labels or desired outputs. The algorithm learns to recognize patterns in the data and builds a model that can make predictions or decisions without being explicitly programmed with rules.\n",
      "\n",
      "The more data the machine learning model is trained on, the better it becomes at making accurate predictions or decisions. This approach allows computers to perform tasks that are difficult to program using traditional methods, such as image recognition, natural language processing, recommendation systems, and many others.\n",
      "\n",
      "Machine learning is widely used in various fields\n",
      "Invocation completed successfully.\n"
     ]
    }
   ],
   "source": [
    "invoke_lambda_with_response_stream(function_name, payload, lambda_client)"
   ]
  },
  {
   "cell_type": "code",
   "execution_count": null,
   "id": "6ce2f846-aabf-409d-ab27-131f7813a862",
   "metadata": {},
   "outputs": [],
   "source": []
  }
 ],
 "metadata": {
  "kernelspec": {
   "display_name": "conda_pytorch_p310",
   "language": "python",
   "name": "conda_pytorch_p310"
  },
  "language_info": {
   "codemirror_mode": {
    "name": "ipython",
    "version": 3
   },
   "file_extension": ".py",
   "mimetype": "text/x-python",
   "name": "python",
   "nbconvert_exporter": "python",
   "pygments_lexer": "ipython3",
   "version": "3.10.13"
  }
 },
 "nbformat": 4,
 "nbformat_minor": 5
}
