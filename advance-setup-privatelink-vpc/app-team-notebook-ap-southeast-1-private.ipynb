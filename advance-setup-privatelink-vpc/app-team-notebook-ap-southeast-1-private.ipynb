{
 "cells": [
  {
   "cell_type": "code",
   "execution_count": 8,
   "id": "b2ab1de7",
   "metadata": {},
   "outputs": [],
   "source": [
    "import boto3\n",
    "import json\n",
    "import base64\n",
    "\n",
    "# Create an STS client in application account using sts vpc endpoint at us-east-1\n",
    "\n",
    "sts_client = boto3.client(\n",
    "    'sts',\n",
    "    region_name='us-east-1',\n",
    "    endpoint_url='https://sts.us-east-1.amazonaws.com'\n",
    ")\n",
    "\n",
    "# Assume the role from ML account\n",
    "assumed_role_object = sts_client.assume_role(\n",
    "    RoleArn=\"arn:aws:iam::5931xxxxxxxx:role/account-a-account-b-assume-role\",\n",
    "    RoleSessionName=\"cross_account_lambda_invocation\",\n",
    ")\n"
   ]
  },
  {
   "cell_type": "code",
   "execution_count": 9,
   "id": "b5903f48",
   "metadata": {},
   "outputs": [],
   "source": [
    "# Create a new session using the assumed role credentials\n",
    "assumed_role_session = boto3.Session(\n",
    "    aws_access_key_id=assumed_role_object['Credentials']['AccessKeyId'],\n",
    "    aws_secret_access_key=assumed_role_object['Credentials']['SecretAccessKey'],\n",
    "    aws_session_token=assumed_role_object['Credentials']['SessionToken']\n",
    ")\n",
    "\n",
    "# Create a Lambda client using the assumed role session and specify the desired region (us-east-1 in this example)\n",
    "lambda_client = assumed_role_session.client('lambda', region_name='us-east-1')"
   ]
  },
  {
   "cell_type": "code",
   "execution_count": 10,
   "id": "87c9b17e",
   "metadata": {},
   "outputs": [],
   "source": [
    "def invoke_lambda_with_response_stream(function_name, payload, lambda_client):\n",
    "    lambda_client = lambda_client\n",
    "\n",
    "    response = lambda_client.invoke_with_response_stream(\n",
    "        FunctionName=function_name,\n",
    "        Payload=json.dumps(payload)\n",
    "    )\n",
    "\n",
    "    for event in response['EventStream']:\n",
    "        if 'PayloadChunk' in event:\n",
    "            chunk = event['PayloadChunk']['Payload'].decode('utf-8')\n",
    "            print(chunk, end='', flush=True)\n",
    "        elif 'InvokeComplete' in event:\n",
    "            if 'ErrorCode' in event['InvokeComplete']:\n",
    "                error_code = event['InvokeComplete']['ErrorCode']\n",
    "                error_details = event['InvokeComplete']['ErrorDetails']\n",
    "                print(f\"\\nError: {error_code} - {error_details}\")\n",
    "            else:\n",
    "                print(\"\\nInvocation completed successfully.\")"
   ]
  },
  {
   "cell_type": "code",
   "execution_count": 11,
   "id": "3ce34bcb",
   "metadata": {},
   "outputs": [],
   "source": [
    "# Example usage\n",
    "function_name = 'lambdastreaming-NewStreamingFunction-dBu5NofsG2BE'\n",
    "\n",
    "messages = [\n",
    "  {\"role\": \"user\", \"content\": \"What is AWS?\"},\n",
    "]\n",
    "\n",
    "payload_body={\n",
    "    \"anthropic_version\": \"bedrock-2023-05-31\",\n",
    "    \"messages\": messages, \n",
    "    \"max_tokens\": 300, \n",
    "    \"temperature\": 0.1, \n",
    "    \"top_p\": 0.9}\n",
    "\n",
    "payload = {\n",
    "    'modelId': 'anthropic.claude-3-sonnet-20240229-v1:0',\n",
    "    'body': payload_body\n",
    "}\n",
    "\n"
   ]
  },
  {
   "cell_type": "code",
   "execution_count": 12,
   "id": "cb639f5a",
   "metadata": {},
   "outputs": [
    {
     "name": "stdout",
     "output_type": "stream",
     "text": [
      "AWS stands for Amazon Web Services. It is a comprehensive cloud computing platform provided by Amazon, offering a broad set of global cloud-based products and services. AWS allows individuals, companies, and governments to access a virtual cluster of computers, storage, databases, and a suite of application services over the internet.\n",
      "\n",
      "Some key features and services offered by AWS include:\n",
      "\n",
      "1. Elastic Compute Cloud (EC2): Provides scalable virtual servers in the cloud.\n",
      "2. Simple Storage Service (S3): Offers scalable object storage for data backup, archiving, and applications.\n",
      "3. Relational Database Service (RDS): Provides managed relational databases like MySQL, PostgreSQL, Oracle, and SQL Server.\n",
      "4. Lambda: Allows running code without provisioning or managing servers (serverless computing).\n",
      "5. Elastic Load Balancing: Automatically distributes incoming application traffic across multiple targets.\n",
      "6. CloudFront: A content delivery network (CDN) service for low-latency distribution of data and web content.\n",
      "7. Amazon Virtual Private Cloud (VPC): Provisions a logically isolated section of the AWS cloud for launching resources.\n",
      "8. AWS Identity and Access Management (IAM): Manages user access and encryption keys.\n",
      "\n",
      "AWS provides a pay-as-you-go pricing model, allowing users to pay only for the services and resources they consume. It offers a wide range of global data\n",
      "Invocation completed successfully.\n"
     ]
    }
   ],
   "source": [
    "invoke_lambda_with_response_stream(function_name, payload, lambda_client)"
   ]
  },
  {
   "cell_type": "code",
   "execution_count": null,
   "id": "bdd4970d",
   "metadata": {},
   "outputs": [],
   "source": []
  }
 ],
 "metadata": {
  "kernelspec": {
   "display_name": "conda_python3",
   "language": "python",
   "name": "conda_python3"
  },
  "language_info": {
   "codemirror_mode": {
    "name": "ipython",
    "version": 3
   },
   "file_extension": ".py",
   "mimetype": "text/x-python",
   "name": "python",
   "nbconvert_exporter": "python",
   "pygments_lexer": "ipython3",
   "version": "3.10.13"
  }
 },
 "nbformat": 4,
 "nbformat_minor": 5
}
