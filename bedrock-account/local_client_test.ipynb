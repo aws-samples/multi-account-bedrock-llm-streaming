{
 "cells": [
  {
   "cell_type": "code",
   "execution_count": 31,
   "id": "11104e56-e083-4e4d-8339-ad0454acf3ab",
   "metadata": {
    "tags": []
   },
   "outputs": [],
   "source": [
    "import json\n",
    "import base64\n",
    "import boto3"
   ]
  },
  {
   "cell_type": "code",
   "execution_count": null,
   "id": "1960816a-96b3-4f54-affb-0af4221ac0cb",
   "metadata": {
    "tags": []
   },
   "outputs": [],
   "source": []
  },
  {
   "cell_type": "code",
   "execution_count": 88,
   "id": "80e27897-51e9-4d8f-ba76-c4ac11edfce5",
   "metadata": {
    "tags": []
   },
   "outputs": [],
   "source": [
    "def invoke_lambda_with_response_stream(function_name, payload):\n",
    "    lambda_client = boto3.client('lambda')\n",
    "\n",
    "    response = lambda_client.invoke_with_response_stream(\n",
    "        FunctionName=function_name,\n",
    "        Payload=json.dumps(payload)\n",
    "    )\n",
    "\n",
    "    for event in response['EventStream']:\n",
    "        if 'PayloadChunk' in event:\n",
    "            chunk = event['PayloadChunk']['Payload'].decode('utf-8')\n",
    "            print(chunk, end='', flush=True)\n",
    "        elif 'InvokeComplete' in event:\n",
    "            if 'ErrorCode' in event['InvokeComplete']:\n",
    "                error_code = event['InvokeComplete']['ErrorCode']\n",
    "                error_details = event['InvokeComplete']['ErrorDetails']\n",
    "                print(f\"\\nError: {error_code} - {error_details}\")\n",
    "            else:\n",
    "                print(\"\\nInvocation completed successfully.\")"
   ]
  },
  {
   "cell_type": "code",
   "execution_count": 134,
   "id": "2013a876-b4d7-4111-8502-f1a71cae10e9",
   "metadata": {
    "tags": []
   },
   "outputs": [],
   "source": [
    "# Example usage\n",
    "function_name = 'sam-app-NewStreamingFunction-MvQgTK3EspsL'\n",
    "\n",
    "messages = [\n",
    "  {\"role\": \"user\", \"content\": \"Please explain me what is Machine Learning in a simple way.\"},\n",
    "]\n",
    "\n",
    "payload_body={\n",
    "    \"anthropic_version\": \"bedrock-2023-05-31\",\n",
    "    \"messages\": messages, \n",
    "    \"max_tokens\": 300, \n",
    "    \"temperature\": 0.1, \n",
    "    \"top_p\": 0.9}\n",
    "\n",
    "payload = {\n",
    "    'modelId': 'anthropic.claude-3-sonnet-20240229-v1:0',\n",
    "    'body': payload_body\n",
    "}"
   ]
  },
  {
   "cell_type": "code",
   "execution_count": 136,
   "id": "9c547498-4a75-4287-8645-6df4e54e8eb3",
   "metadata": {
    "tags": []
   },
   "outputs": [
    {
     "name": "stdout",
     "output_type": "stream",
     "text": [
      "Machine Learning is a field of artificial intelligence that allows computers to learn and improve from experience without being explicitly programmed. Instead of writing rules and instructions for the computer to follow, machine learning algorithms use data to automatically learn patterns and make predictions or decisions.\n",
      "\n",
      "Here's a simple analogy to understand machine learning:\n",
      "\n",
      "Imagine you want to teach a child how to identify different types of animals. Instead of giving them a set of rules like \"if it has four legs and a tail, it's a dog,\" you show them many examples of different animals with their corresponding labels (e.g., pictures of dogs, cats, birds, etc.). The child will start to recognize patterns in the data, such as the characteristics that define each animal type.\n",
      "\n",
      "Similarly, in machine learning, you provide the algorithm with a large amount of data (e.g., images, text, numbers) and the corresponding labels or desired outputs. The algorithm then learns from this data, identifying patterns and relationships, and builds a model that can make predictions or decisions on new, unseen data.\n",
      "\n",
      "For example, if you want to build a system that can automatically recognize handwritten digits, you would feed a machine learning algorithm thousands or millions of examples of handwritten digits along with their correct labels (0, 1, 2, ..., 9). The algorithm would learn the patterns that distinguish each digit and create a model that can then recognize and classify new handwritten digits it has never seen before\n",
      "Invocation completed successfully.\n"
     ]
    }
   ],
   "source": [
    "invoke_lambda_with_response_stream(function_name, payload)"
   ]
  },
  {
   "cell_type": "code",
   "execution_count": null,
   "id": "6ce2f846-aabf-409d-ab27-131f7813a862",
   "metadata": {},
   "outputs": [],
   "source": []
  }
 ],
 "metadata": {
  "kernelspec": {
   "display_name": "conda_pytorch_p310",
   "language": "python",
   "name": "conda_pytorch_p310"
  },
  "language_info": {
   "codemirror_mode": {
    "name": "ipython",
    "version": 3
   },
   "file_extension": ".py",
   "mimetype": "text/x-python",
   "name": "python",
   "nbconvert_exporter": "python",
   "pygments_lexer": "ipython3",
   "version": "3.10.13"
  }
 },
 "nbformat": 4,
 "nbformat_minor": 5
}
